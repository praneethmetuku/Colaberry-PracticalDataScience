{
 "cells": [
  {
   "cell_type": "markdown",
   "metadata": {},
   "source": [
    "![alt text](https://ehhsmath.files.wordpress.com/2013/06/algebra_wordle.png)"
   ]
  },
  {
   "cell_type": "markdown",
   "metadata": {},
   "source": [
    "# Linear Algebra "
   ]
  },
  {
   "cell_type": "markdown",
   "metadata": {},
   "source": [
    "Linear algebra is the branch of mathematics which deals with straight lines, vectors, matrices, multi-dimensional arrays (constructed using linear structures like straight lines or linear planes etc.) and the linear relationships or mappings among these constructs. A set of points or co-ordinates which satisfy a linear equation consitute a 'hyperplane' in an n-dimensional space. The intersection of two hyperplanes is a straight line and the intersections of multiple hyperplanes is a single point, generally regarded as the 'origin'"
   ]
  },
  {
   "cell_type": "markdown",
   "metadata": {},
   "source": [
    "## Scalars, Vectors, Matrices and Tensors\n"
   ]
  },
  {
   "cell_type": "markdown",
   "metadata": {},
   "source": [
    "A single number (generally rational number) is called a 'scalar'. A single point in space can be represented by a set of co-ordinates or scalars, and this is called a 'vector'. In programming parlance, a vector is an array of numbers (scalars). A Matrix is a 2-dimensional array of numbers, or a collection of vectors. A 'tensor' is a multi-dimensional array"
   ]
  },
  {
   "cell_type": "markdown",
   "metadata": {},
   "source": [
    "![alt text](https://s3.amazonaws.com/refactored/images/ML/images/svmt_new.png)"
   ]
  },
  {
   "cell_type": "markdown",
   "metadata": {},
   "source": [
    "A 'scalar' can be a numeric variable, an numpy array with numbers is a 'vector'. Similarly, a two-dimensional array can be a matrix and a multi-dimensional array is a 'tensor'. A tensor is generally defined as a geometric object which could represent the linear relationship between scalars, vectors or other tensors (Source: Wikipedia)"
   ]
  },
  {
   "cell_type": "markdown",
   "metadata": {},
   "source": [
    "# Matrix Operations - Addition, Subtraction, Multiplication, Transpose and Inverse"
   ]
  },
  {
   "cell_type": "code",
   "execution_count": 8,
   "metadata": {},
   "outputs": [
    {
     "name": "stdout",
     "output_type": "stream",
     "text": [
      "[[ 1  2  3]\n",
      " [ 4  7 19]\n",
      " [ 6  7  8]]\n",
      "[[-3  4 -5]\n",
      " [ 4  4  5]\n",
      " [ 3 -4  6]]\n"
     ]
    }
   ],
   "source": [
    "import numpy as np\n",
    "A = np.matrix([[1,2,3],\n",
    "               [4, 7, 19],\n",
    "               [6,7,8]])\n",
    "B = np.matrix([[-3,4,-5],\n",
    "               [4, 4, 5],\n",
    "               [3,-4,6]])\n",
    "print(A)\n",
    "print(B)"
   ]
  },
  {
   "cell_type": "markdown",
   "metadata": {},
   "source": [
    "### Addition"
   ]
  },
  {
   "cell_type": "code",
   "execution_count": 10,
   "metadata": {},
   "outputs": [
    {
     "data": {
      "text/plain": [
       "matrix([[-2,  6, -2],\n",
       "        [ 8, 11, 24],\n",
       "        [ 9,  3, 14]])"
      ]
     },
     "execution_count": 10,
     "metadata": {},
     "output_type": "execute_result"
    }
   ],
   "source": [
    "#A+B\n",
    "addition=A+B\n",
    "addition"
   ]
  },
  {
   "cell_type": "markdown",
   "metadata": {},
   "source": [
    "### Subtraction"
   ]
  },
  {
   "cell_type": "code",
   "execution_count": 11,
   "metadata": {},
   "outputs": [
    {
     "data": {
      "text/plain": [
       "matrix([[ 4, -2,  8],\n",
       "        [ 0,  3, 14],\n",
       "        [ 3, 11,  2]])"
      ]
     },
     "execution_count": 11,
     "metadata": {},
     "output_type": "execute_result"
    }
   ],
   "source": [
    "#A-B\n",
    "subtraction=A-B\n",
    "subtraction"
   ]
  },
  {
   "cell_type": "markdown",
   "metadata": {},
   "source": [
    "### Multiplication"
   ]
  },
  {
   "cell_type": "markdown",
   "metadata": {},
   "source": [
    "![alt text](https://s3.amazonaws.com/refactored/images/ML/images/matmul.png)"
   ]
  },
  {
   "cell_type": "code",
   "execution_count": 12,
   "metadata": {},
   "outputs": [
    {
     "data": {
      "text/plain": [
       "matrix([[ 14,   0,  23],\n",
       "        [ 73, -32, 129],\n",
       "        [ 34,  20,  53]])"
      ]
     },
     "execution_count": 12,
     "metadata": {},
     "output_type": "execute_result"
    }
   ],
   "source": [
    "#A*B\n",
    "multiplication=A*B\n",
    "multiplication"
   ]
  },
  {
   "cell_type": "code",
   "execution_count": 13,
   "metadata": {},
   "outputs": [
    {
     "data": {
      "text/plain": [
       "matrix([[ 5, 10, 15],\n",
       "        [20, 35, 95],\n",
       "        [30, 35, 40]])"
      ]
     },
     "execution_count": 13,
     "metadata": {},
     "output_type": "execute_result"
    }
   ],
   "source": [
    "#5*A\n",
    "multiply=5*A\n",
    "multiply"
   ]
  },
  {
   "cell_type": "markdown",
   "metadata": {},
   "source": [
    "## Transpose of a matrix(np.transpose(x))"
   ]
  },
  {
   "cell_type": "markdown",
   "metadata": {},
   "source": [
    "A transpose of a matrix is another matrix which results from transforming all the rows of elements of the original matrix into columns. If the order or shape of the matrix is  (i,j)(i,j)  then the transpose of this matrix will have a shape of  (j,i)(j,i) "
   ]
  },
  {
   "cell_type": "markdown",
   "metadata": {},
   "source": [
    "![alt text](https://s3.amazonaws.com/refactored/images/ML/images/mattran.png)"
   ]
  },
  {
   "cell_type": "code",
   "execution_count": 15,
   "metadata": {},
   "outputs": [
    {
     "data": {
      "text/plain": [
       "matrix([[ 1,  4,  6],\n",
       "        [ 2,  7,  7],\n",
       "        [ 3, 19,  8]])"
      ]
     },
     "execution_count": 15,
     "metadata": {},
     "output_type": "execute_result"
    }
   ],
   "source": [
    "#transpose of a is:-\n",
    "AT=np.transpose(A)\n",
    "AT"
   ]
  },
  {
   "cell_type": "markdown",
   "metadata": {},
   "source": [
    "# Inverse of a matrix(numpy.linalg.inv())"
   ]
  },
  {
   "cell_type": "markdown",
   "metadata": {},
   "source": [
    "![alt text](https://www.onlinemathlearning.com/image-files/xinverse-matrix.png.pagespeed.ic.o8g8MXJQ0U.webp)"
   ]
  },
  {
   "cell_type": "markdown",
   "metadata": {},
   "source": [
    "The Inverse of a matrix is the matrix which when multiplied with the original matrix, results in a Identity matrix.\n",
    "\n",
    "A * A-1 = I"
   ]
  },
  {
   "cell_type": "markdown",
   "metadata": {},
   "source": [
    "The Inverse of a matrix can be determined by using the 'inv' function of 'linalg' sub-module of numpy ( numpy.linalg.inv() ). This function can be performed on a numpy array (matrix)."
   ]
  },
  {
   "cell_type": "markdown",
   "metadata": {},
   "source": [
    "![alt text](http://images.slideplayer.com/32/9800716/slides/slide_22.jpg)"
   ]
  },
  {
   "cell_type": "code",
   "execution_count": 18,
   "metadata": {},
   "outputs": [
    {
     "data": {
      "text/plain": [
       "matrix([[-1.71111111,  0.11111111,  0.37777778],\n",
       "        [ 1.82222222, -0.22222222, -0.15555556],\n",
       "        [-0.31111111,  0.11111111, -0.02222222]])"
      ]
     },
     "execution_count": 18,
     "metadata": {},
     "output_type": "execute_result"
    }
   ],
   "source": [
    "Ainverse=np.linalg.inv(A)\n",
    "Ainverse"
   ]
  },
  {
   "cell_type": "markdown",
   "metadata": {},
   "source": [
    "# Vector Operations - Dot Product and Cross Product"
   ]
  },
  {
   "cell_type": "markdown",
   "metadata": {},
   "source": [
    "# Dot product(np.dot())"
   ]
  },
  {
   "cell_type": "code",
   "execution_count": 20,
   "metadata": {},
   "outputs": [
    {
     "data": {
      "text/plain": [
       "matrix([[ 14,   0,  23],\n",
       "        [ 73, -32, 129],\n",
       "        [ 34,  20,  53]])"
      ]
     },
     "execution_count": 20,
     "metadata": {},
     "output_type": "execute_result"
    }
   ],
   "source": [
    "dot=np.dot(A,B)\n",
    "dot"
   ]
  },
  {
   "cell_type": "markdown",
   "metadata": {},
   "source": [
    "![alt text](http://images.slideplayer.com/16/5003517/slides/slide_4.jpg)"
   ]
  },
  {
   "cell_type": "markdown",
   "metadata": {},
   "source": [
    "# cross product(np1.cross())"
   ]
  },
  {
   "cell_type": "code",
   "execution_count": 24,
   "metadata": {},
   "outputs": [
    {
     "data": {
      "text/plain": [
       "array([[-22,  -4,  10],\n",
       "       [-41,  56, -12],\n",
       "       [ 74, -12, -45]])"
      ]
     },
     "execution_count": 24,
     "metadata": {},
     "output_type": "execute_result"
    }
   ],
   "source": [
    "cross=np.cross(A,B)\n",
    "cross"
   ]
  },
  {
   "cell_type": "markdown",
   "metadata": {},
   "source": [
    "![alt text](http://www.tigerquesttech.com/Mathematics/Calculus/gifs/cross_product.gif)"
   ]
  },
  {
   "cell_type": "markdown",
   "metadata": {},
   "source": [
    "## Norm of a vector(numpy.linalg.norm())"
   ]
  },
  {
   "cell_type": "markdown",
   "metadata": {},
   "source": [
    "The norm of a vector is a numeric value which represents the lenght or size of the vector"
   ]
  },
  {
   "cell_type": "markdown",
   "metadata": {},
   "source": [
    "Norm of a vector can be calculated using the method numpy.linalg.norm(). The function takes at least two arguments, i.e., the vector (numpy array) and the order of the norm. The default value for order of norm is 2. So when no 'order' argument is specified, the function calculates the second order norm by default."
   ]
  },
  {
   "cell_type": "code",
   "execution_count": 27,
   "metadata": {},
   "outputs": [
    {
     "data": {
      "text/plain": [
       "23.778491338535947"
      ]
     },
     "execution_count": 27,
     "metadata": {},
     "output_type": "execute_result"
    }
   ],
   "source": [
    "normA=np.linalg.norm(A,2)\n",
    "normA"
   ]
  },
  {
   "cell_type": "markdown",
   "metadata": {},
   "source": [
    "![alt text](http://slideplayer.com/slide/5302179/17/images/2/Vector+Norms+Measure+the+magnitude+of+a+vector.jpg)"
   ]
  },
  {
   "cell_type": "markdown",
   "metadata": {},
   "source": [
    "# Angle between two vectors "
   ]
  },
  {
   "cell_type": "markdown",
   "metadata": {},
   "source": [
    "Calculating the angle between two vectors is not a straight forward process in Python The following steps can be followed in order to find out the angle between any two vectors.\n",
    "\n",
    "\n",
    "1-Normalize the given vectors: Normalizing is the process of converting the length of a vector to '1' while preserving the direction of the vector. This can be done by dividing the vector with its second order norm.\n",
    "\n",
    "\n",
    "2-Dot product of Normalized vectors: Find out the dot product of the normalized vectors from above step using the numpy.dot function.\n",
    "\n",
    "\n",
    "\n",
    "3-Clipping the value of the dot product: As we are trying to calculate the angle between vectors using the law of cosines, we should note that the cosine function has a maximum value of '1' and minimum value of '-1'. The dot product calculated in previous step cannot have a value beyond these bounds. Hence we use the 'numpy.clip()' function to limit the result of the dot product. If the value of the dot product of the normalized vectors falls within -1 and 1, it retains its value. If it is less than -1 it assumes a value of -1 and if greater than 1, then it assumes a value of 1.\n",
    "\n",
    "\n",
    "4-Calculating angle using cos-1 function: We have a value between -1 and 1 which we need to use to calculate the possible angle using the inverse cosine function. This can be acheived using the 'numpy.arccos()' function. Note that the arccos() function returns the angle in radians. In order to convert this result into degrees, the 'numpy.degrees()' function can be used."
   ]
  },
  {
   "cell_type": "markdown",
   "metadata": {},
   "source": [
    "![alt text](http://ask.learncbse.in/uploads/db3785/original/2X/f/f91bfb0458f58948852e5045523f0569a8e54d07.png)"
   ]
  },
  {
   "cell_type": "markdown",
   "metadata": {},
   "source": [
    "### Example for angle between two vectors"
   ]
  },
  {
   "cell_type": "code",
   "execution_count": 30,
   "metadata": {},
   "outputs": [
    {
     "name": "stdout",
     "output_type": "stream",
     "text": [
      "2.449489742783178 7.0710678118654755\n",
      "[0.40824829 0.81649658 0.40824829] [0.42426407 0.56568542 0.70710678]\n",
      "22.51782535822713\n"
     ]
    }
   ],
   "source": [
    "v_one = np.array([1,2,1])\n",
    "v_two = np.array([3,4,5])\n",
    "\n",
    "v_one_norm = np.linalg.norm(v_one,2)\n",
    "v_two_norm = np.linalg.norm(v_two,2)\n",
    "print(v_one_norm,v_two_norm)\n",
    "\n",
    "v_one_normvec = v_one/v_one_norm\n",
    "v_two_normvec = v_two/v_two_norm\n",
    "print(v_one_normvec,v_two_normvec)\n",
    "\n",
    "v_angle = np.degrees(np.arccos(np.clip(np.dot(v_one_normvec,v_two_normvec),-1.0,1.0)))\n",
    "print(v_angle)"
   ]
  },
  {
   "cell_type": "markdown",
   "metadata": {},
   "source": [
    "# Eigen Values and Eigen Vectors"
   ]
  },
  {
   "cell_type": "markdown",
   "metadata": {},
   "source": [
    "### What are eigenvectors?\n"
   ]
  },
  {
   "cell_type": "markdown",
   "metadata": {},
   "source": [
    "-A Matrix is a mathematical object that acts on a (column) vector, resulting in a new vector, i.e. Ax=b\n",
    "\n",
    "-An eigenvector is the resulting vector that is parallel to x (some multiple of x)"
   ]
  },
  {
   "cell_type": "markdown",
   "metadata": {},
   "source": [
    "$$ {A}\\underline{x}=\\lambda \\underline{x} $$"
   ]
  },
  {
   "cell_type": "markdown",
   "metadata": {},
   "source": [
    "-The eigenvectors with an eigenvalue of zero are the vectors in the nullspace\n",
    "\n",
    "-If A is singular (takes some non-zero vector into 0) then λ=0"
   ]
  },
  {
   "cell_type": "markdown",
   "metadata": {},
   "source": [
    "A·v = λ·v\n",
    "\n",
    "In this equation A is an n-by-n matrix, v is a non-zero n-by-1 vector and λ is a scalar (which may be either real or complex). Any value of λ for which this equation has a solution is known as an eigenvalue of the matrix A. It is sometimes also called the characteristic value. The vector, v, which corresponds to this value is called an eigenvector. The eigenvalue problem can be rewritten as:"
   ]
  },
  {
   "cell_type": "markdown",
   "metadata": {},
   "source": [
    "(A·v) - (λ·v) = 0 \n",
    "(A·v) - (λ·I·v) = 0 \n",
    "(A - (λ·I))·v = 0 \n",
    "If v is non-zero, this equation will only have a solution if\n",
    "\n",
    "|A - (λ·I)| = 0\n",
    "\n",
    "This equation is called the characteristic equation of A, and is an nth order polynomial in λ with n roots.\n",
    "\n",
    "|A - (λ·I)| = (λ1-λ)(λ2-λ)…(λn-λ) "
   ]
  },
  {
   "cell_type": "markdown",
   "metadata": {},
   "source": [
    "### Example of eigenvector and eigenvalue"
   ]
  },
  {
   "cell_type": "code",
   "execution_count": 36,
   "metadata": {},
   "outputs": [
    {
     "data": {
      "text/plain": [
       "matrix([[ 1,  2,  3],\n",
       "        [ 4,  7, 19],\n",
       "        [ 6,  7,  8]])"
      ]
     },
     "execution_count": 36,
     "metadata": {},
     "output_type": "execute_result"
    }
   ],
   "source": [
    "A"
   ]
  },
  {
   "cell_type": "code",
   "execution_count": 42,
   "metadata": {},
   "outputs": [],
   "source": [
    "from scipy import linalg as LA\n",
    "import numpy as np\n",
    "Value,Vector=LA.eig(A)\n"
   ]
  },
  {
   "cell_type": "code",
   "execution_count": 43,
   "metadata": {},
   "outputs": [
    {
     "data": {
      "text/plain": [
       "array([20.4178883 +0.j, -0.57325332+0.j, -3.84463498+0.j])"
      ]
     },
     "execution_count": 43,
     "metadata": {},
     "output_type": "execute_result"
    }
   ],
   "source": [
    "Value#eigen value"
   ]
  },
  {
   "cell_type": "code",
   "execution_count": 41,
   "metadata": {},
   "outputs": [
    {
     "data": {
      "text/plain": [
       "array([[-0.1687588 , -0.64062199,  0.05956476],\n",
       "       [-0.82152007,  0.75011183, -0.87229433],\n",
       "       [-0.54463312, -0.164121  ,  0.48533971]])"
      ]
     },
     "execution_count": 41,
     "metadata": {},
     "output_type": "execute_result"
    }
   ],
   "source": [
    "Vector#eigen vector"
   ]
  },
  {
   "cell_type": "markdown",
   "metadata": {},
   "source": [
    "## Trace of a matrix"
   ]
  },
  {
   "cell_type": "markdown",
   "metadata": {},
   "source": [
    "In linear algebra, the trace of an n-by-n square matrix A is defined to be the sum of the elements on the main diagonal (the diagonal from the upper left to the lower right) of A"
   ]
  },
  {
   "cell_type": "code",
   "execution_count": 47,
   "metadata": {},
   "outputs": [
    {
     "data": {
      "text/plain": [
       "matrix([[ 1,  2,  3],\n",
       "        [ 4,  7, 19],\n",
       "        [ 6,  7,  8]])"
      ]
     },
     "execution_count": 47,
     "metadata": {},
     "output_type": "execute_result"
    }
   ],
   "source": [
    "A"
   ]
  },
  {
   "cell_type": "code",
   "execution_count": 49,
   "metadata": {},
   "outputs": [
    {
     "data": {
      "text/plain": [
       "matrix([[16]])"
      ]
     },
     "execution_count": 49,
     "metadata": {},
     "output_type": "execute_result"
    }
   ],
   "source": [
    "Trace=A.trace()\n",
    "Trace"
   ]
  },
  {
   "cell_type": "markdown",
   "metadata": {},
   "source": [
    "## Determinant of a matrix"
   ]
  },
  {
   "cell_type": "markdown",
   "metadata": {},
   "source": [
    "In Linear Algebra, determinant of a matrix is a special number that can be calculated from a square matrix.\n",
    "\n"
   ]
  },
  {
   "cell_type": "markdown",
   "metadata": {},
   "source": [
    "Determinant of a matrix can also be found by product of its eigenvalues"
   ]
  },
  {
   "cell_type": "code",
   "execution_count": 50,
   "metadata": {},
   "outputs": [
    {
     "data": {
      "text/plain": [
       "matrix([[ 1,  2,  3],\n",
       "        [ 4,  7, 19],\n",
       "        [ 6,  7,  8]])"
      ]
     },
     "execution_count": 50,
     "metadata": {},
     "output_type": "execute_result"
    }
   ],
   "source": [
    "A"
   ]
  },
  {
   "cell_type": "code",
   "execution_count": 52,
   "metadata": {},
   "outputs": [
    {
     "data": {
      "text/plain": [
       "45.000000000000014"
      ]
     },
     "execution_count": 52,
     "metadata": {},
     "output_type": "execute_result"
    }
   ],
   "source": [
    "det=np.linalg.det(A)\n",
    "det"
   ]
  },
  {
   "cell_type": "markdown",
   "metadata": {},
   "source": [
    "## Rank of a matrix"
   ]
  },
  {
   "cell_type": "markdown",
   "metadata": {},
   "source": [
    "The rank of a matrix is defined as (a) the maximum number of linearly independent column vectors in the matrix or (b) the maximum number of linearly independent row vectors in the matri"
   ]
  },
  {
   "cell_type": "markdown",
   "metadata": {},
   "source": [
    "The maximum number of linearly independent vectors in a matrix is equal to the number of non-zero rows in its row echelon matrix. Therefore, to find the rank of a matrix, we simply transform the matrix to its row echelon form and count the number of non-zero rows."
   ]
  },
  {
   "cell_type": "code",
   "execution_count": 54,
   "metadata": {},
   "outputs": [
    {
     "data": {
      "text/plain": [
       "matrix([[ 1,  2,  3],\n",
       "        [ 4,  7, 19],\n",
       "        [ 6,  7,  8]])"
      ]
     },
     "execution_count": 54,
     "metadata": {},
     "output_type": "execute_result"
    }
   ],
   "source": [
    "A"
   ]
  },
  {
   "cell_type": "code",
   "execution_count": 55,
   "metadata": {},
   "outputs": [
    {
     "data": {
      "text/plain": [
       "3"
      ]
     },
     "execution_count": 55,
     "metadata": {},
     "output_type": "execute_result"
    }
   ],
   "source": [
    "rank=np.linalg.matrix_rank(A)\n",
    "rank"
   ]
  },
  {
   "cell_type": "code",
   "execution_count": null,
   "metadata": {},
   "outputs": [],
   "source": []
  },
  {
   "cell_type": "code",
   "execution_count": null,
   "metadata": {},
   "outputs": [],
   "source": []
  }
 ],
 "metadata": {
  "kernelspec": {
   "display_name": "Python 3",
   "language": "python",
   "name": "python3"
  },
  "language_info": {
   "codemirror_mode": {
    "name": "ipython",
    "version": 3
   },
   "file_extension": ".py",
   "mimetype": "text/x-python",
   "name": "python",
   "nbconvert_exporter": "python",
   "pygments_lexer": "ipython3",
   "version": "3.6.4"
  }
 },
 "nbformat": 4,
 "nbformat_minor": 2
}
