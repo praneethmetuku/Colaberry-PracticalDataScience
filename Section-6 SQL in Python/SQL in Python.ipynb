{
 "cells": [
  {
   "cell_type": "markdown",
   "metadata": {},
   "source": [
    "![title](https://chrisostrouchov.com/images/sqlite_with_python/python_sqlite.png)"
   ]
  },
  {
   "cell_type": "markdown",
   "metadata": {},
   "source": [
    "# SQL in python "
   ]
  },
  {
   "cell_type": "markdown",
   "metadata": {},
   "source": [
    " Python is very flexible and has a wide range of libraries and third-party modules to support many operations. SQL (Structured Query Language) can be executed from within Python using sqlite3. The sqlite3 module offers support to connect to an external database and execute SQL queries. However, this module does not offer the complete querying capability of a typical SQL engine and functions as a light-weight API version of the querying engine. Other modules like MySQLdb (same as mysql-python), offer a more extensive range of functions and query processing abilities"
   ]
  },
  {
   "cell_type": "markdown",
   "metadata": {},
   "source": [
    "Python comes with SQLite3, which provides a lightweight disk-based database that doesn't require a seperate server process. It's useful to prototyp with SQLite and then port the code to a larger database system, like MySQL. Python comes with a pretty awesome module to connect to a SQL database with SQLite. The module is SQLite3"
   ]
  },
  {
   "cell_type": "code",
   "execution_count": 34,
   "metadata": {},
   "outputs": [],
   "source": [
    "#importing sqlite3\n",
    "import sqlite3"
   ]
  },
  {
   "cell_type": "markdown",
   "metadata": {},
   "source": [
    "## Connect() method "
   ]
  },
  {
   "cell_type": "markdown",
   "metadata": {},
   "source": [
    "The first step in executing SQL through Python is connecting to an external database file. The 'connect' method in the sqlite module helps to create a connection with an external database. The method accepts the name of the external database as argument. We can also create a database in-memory by passing \":memory:\" as the argument, however care needs to be taken as this consumes RAM.\n",
    "\n",
    "The connection is stored as a connection object. Methods like cursor, commit, close, rollback, execute, create_function, etc., can be called on the connection object. In order to learn the full-range of methods and their descriptions, please refer to the sqlite module documentation (Link: https://docs.python.org/2/library/sqlite3.html#module-sqlite3)."
   ]
  },
  {
   "cell_type": "markdown",
   "metadata": {},
   "source": [
    "To use sqlite3, you must first create a Connection object that represents the database. If the database name already exists SQLite3 will automatically connect to it, if it does not exsist, SQLite3 will automatically create.\n",
    "\n",
    "For experienced users: You can also supply the special name :memory: to create a database in RAM."
   ]
  },
  {
   "cell_type": "code",
   "execution_count": 6,
   "metadata": {},
   "outputs": [],
   "source": [
    "con = sqlite3.connect(\"pranithmetuku.db\")\n",
    "#or\n",
    "murcon = sqlite3.connect(':memory:')"
   ]
  },
  {
   "cell_type": "markdown",
   "metadata": {},
   "source": [
    "## pandas to_sql() - Copying an Existing Data Set¶\n",
    " "
   ]
  },
  {
   "cell_type": "markdown",
   "metadata": {},
   "source": [
    "New tables can be created in a database and data can be inserted through queries, or, data can also be integrated from an existing source table. The 'Murders' data set can be integrated into the murdersdb database using to_sql method of pandas module. There are two steps to do this:"
   ]
  },
  {
   "cell_type": "markdown",
   "metadata": {},
   "source": [
    "1) Load the data from the source file into a pandas data frame \n",
    "2) Use the to_sql method to copy the data from the data frame into a new/existing table "
   ]
  },
  {
   "cell_type": "markdown",
   "metadata": {},
   "source": [
    "### Load the murders data from source file into a table called 'murderstable' in the murdersdb database\n",
    "\n",
    " "
   ]
  },
  {
   "cell_type": "code",
   "execution_count": 7,
   "metadata": {},
   "outputs": [],
   "source": [
    "import csv\n",
    "import pandas as pd\n",
    "\n",
    "murdersdf = pd.read_csv('https://raw.githubusercontent.com/colaberry/538data/master/murder_2016/murder_2015_final.csv')\n",
    "murdersdf.head(5)\n",
    "# renaming columns as SQL columns cannot start with a number\n",
    "murdersdf.columns = ['city','state','murders_2014','murders_2015','change']\n",
    "murdersdf.to_sql(name='murderstable',con=murcon,if_exists='replace',index=False)"
   ]
  },
  {
   "cell_type": "markdown",
   "metadata": {},
   "source": [
    "## Cursor() method "
   ]
  },
  {
   "cell_type": "markdown",
   "metadata": {},
   "source": [
    "The cursor method can be called on the connection object. This method directs control for carrying out operations through the connection. Once the cursor object is created, it can be used to carry out querying operations by using methods like execute, executemany, executeall, fetchone, fetchmany, fetchall, rowcount, etc.\n",
    "\n",
    "1) Execute: SQL queries can be passed as arguments to this method for execution \n",
    "2) fetchone/many/all: this method collects the output of the SQL query, one/many/all rows at a time, and prints them out"
   ]
  },
  {
   "cell_type": "markdown",
   "metadata": {},
   "source": [
    "### Create a cursor object on the connection created previously. Use the cursor object to execute a 'Select' query to show (use fetchall method to store the query result in a variable 'queryone') the first 5 rows of the table created in the previous exercise. Print 'queryone' variable to see the result. "
   ]
  },
  {
   "cell_type": "code",
   "execution_count": 8,
   "metadata": {},
   "outputs": [
    {
     "name": "stdout",
     "output_type": "stream",
     "text": [
      "[('Baltimore', 'Maryland', 211, 344, 133), ('Chicago', 'Illinois', 411, 478, 67), ('Houston', 'Texas', 242, 303, 61), ('Cleveland', 'Ohio', 63, 120, 57), ('Washington', 'D.C.', 105, 162, 57)]\n"
     ]
    }
   ],
   "source": [
    "murcur = murcon.cursor()\n",
    "murcur.execute(\"SELECT * FROM murderstable LIMIT 5\")\n",
    "queryone = murcur.fetchall()\n",
    "print(queryone)\n"
   ]
  },
  {
   "cell_type": "markdown",
   "metadata": {},
   "source": [
    "There is an alternate way to execute a query using the read_sql_query() method from pandas. The method can be called on a pandas instance and takes two main arguments - the SQL query to be executed on the data set and the connection object which connects the database"
   ]
  },
  {
   "cell_type": "markdown",
   "metadata": {},
   "source": [
    "### Use the read_sql_query() method on the 'murdersdf' data frame to print the same output as  above\n",
    "\n"
   ]
  },
  {
   "cell_type": "code",
   "execution_count": 9,
   "metadata": {},
   "outputs": [
    {
     "name": "stdout",
     "output_type": "stream",
     "text": [
      "         city     state  murders_2014  murders_2015  change\n",
      "0   Baltimore  Maryland           211           344     133\n",
      "1     Chicago  Illinois           411           478      67\n",
      "2     Houston     Texas           242           303      61\n",
      "3   Cleveland      Ohio            63           120      57\n",
      "4  Washington      D.C.           105           162      57\n"
     ]
    }
   ],
   "source": [
    "print(pd.read_sql_query(\"SELECT * FROM murderstable LIMIT 5\",murcon))\n"
   ]
  },
  {
   "cell_type": "markdown",
   "metadata": {},
   "source": [
    "### CRUD Operations\n"
   ]
  },
  {
   "cell_type": "markdown",
   "metadata": {},
   "source": [
    "Create, read, update and delete opearations performed on databases are oftened referred to as CRUD operations. For details on framing SQL queries for these operations please refer to any online SQL tutorial.\n",
    "\n",
    "The aim of the following set of exercises is to familiarize us with CRUD operations performed through python. We will the murders data set when needed"
   ]
  },
  {
   "cell_type": "markdown",
   "metadata": {},
   "source": [
    "### Create table "
   ]
  },
  {
   "cell_type": "markdown",
   "metadata": {},
   "source": [
    "Create a table with table name as 'murderstabletwo' and the same columns as the murderstable\n",
    "\n",
    "Remember: Use triple quotes to enclose arguments which span multiple-lines"
   ]
  },
  {
   "cell_type": "code",
   "execution_count": 10,
   "metadata": {},
   "outputs": [],
   "source": [
    "try:\n",
    "    murcur.execute(\"\"\"CREATE TABLE murderstabletwo (\n",
    "                      city TEXT,\n",
    "                      state TEXT,\n",
    "                      murders_2014 INTEGER,\n",
    "                      murders_2015 INTEGER,\n",
    "                      change INTEGER)\"\"\")\n",
    "except Exception as e:\n",
    "    print(e)"
   ]
  },
  {
   "cell_type": "markdown",
   "metadata": {},
   "source": [
    "### Reading a table"
   ]
  },
  {
   "cell_type": "markdown",
   "metadata": {},
   "source": [
    "### Execute a read query, which reads the contents of the murderstable and sorts the output rows in a descending order of 2015 murders. Store the first five rows of this output in a variable ('topfive') and print it out."
   ]
  },
  {
   "cell_type": "code",
   "execution_count": 11,
   "metadata": {},
   "outputs": [
    {
     "name": "stdout",
     "output_type": "stream",
     "text": [
      "[('Chicago', 'Illinois', 411, 478, 67), ('New York', 'New York', 333, 352, 19), ('Baltimore', 'Maryland', 211, 344, 133), ('Houston', 'Texas', 242, 303, 61), ('Detroit', 'Michigan', 298, 295, -3)]\n"
     ]
    }
   ],
   "source": [
    "murcur.execute(\"SELECT * FROM murderstable ORDER BY murders_2015 DESC LIMIT 5\")\n",
    "topfive = murcur.fetchall()\n",
    "print(topfive)"
   ]
  },
  {
   "cell_type": "markdown",
   "metadata": {},
   "source": [
    "## Inserting into a table"
   ]
  },
  {
   "cell_type": "markdown",
   "metadata": {},
   "source": [
    "### Insert the top five rows of data in the 'topfive' list, into the second table ('murderstabletwo') created previously. Use the 'executemany' function in order to insert multiple records using a single query. Retrieve the contents of the 'murderstabletwo' using a SELECT query and store the output into a variable 'querytwo'. Print out 'querytwo'."
   ]
  },
  {
   "cell_type": "code",
   "execution_count": 12,
   "metadata": {},
   "outputs": [
    {
     "name": "stdout",
     "output_type": "stream",
     "text": [
      "[('Chicago', 'Illinois', 411, 478, 67), ('New York', 'New York', 333, 352, 19), ('Baltimore', 'Maryland', 211, 344, 133), ('Houston', 'Texas', 242, 303, 61), ('Detroit', 'Michigan', 298, 295, -3)]\n"
     ]
    }
   ],
   "source": [
    "murcur.executemany(\"INSERT INTO murderstabletwo VALUES (?,?,?,?,?)\",topfive)\n",
    "murcur.execute(\"SELECT * FROM murderstabletwo\")\n",
    "querytwo = murcur.fetchall()\n",
    "print(querytwo)"
   ]
  },
  {
   "cell_type": "markdown",
   "metadata": {},
   "source": [
    "# Updating a row in the table"
   ]
  },
  {
   "cell_type": "markdown",
   "metadata": {},
   "source": [
    "### Make 'Chicago' the safest city. Update the 2015 murders value for Chicago as zero. Retreive the updated contents of 'murderstabletwo' and store them in a variable 'querythree'. Print 'querythree'"
   ]
  },
  {
   "cell_type": "code",
   "execution_count": 13,
   "metadata": {},
   "outputs": [
    {
     "name": "stdout",
     "output_type": "stream",
     "text": [
      "[('Chicago', 'Illinois', 411, 0, 67), ('New York', 'New York', 333, 352, 19), ('Baltimore', 'Maryland', 211, 344, 133), ('Houston', 'Texas', 242, 303, 61), ('Detroit', 'Michigan', 298, 295, -3)]\n"
     ]
    }
   ],
   "source": [
    "murcur.execute(\"UPDATE murderstabletwo SET murders_2015=0 WHERE city='Chicago'\")\n",
    "murcur.execute(\"SELECT * FROM murderstabletwo\")\n",
    "querythree = murcur.fetchall()\n",
    "print(querythree)"
   ]
  },
  {
   "cell_type": "markdown",
   "metadata": {},
   "source": [
    "## Deleting Rows and Dropping Tables "
   ]
  },
  {
   "cell_type": "markdown",
   "metadata": {},
   "source": [
    "Deleting rows is the same as Update query. As in SQL, deleting only deletes the data and does not delete the table itself. 'Drop' is the command that can be used to delete a table"
   ]
  },
  {
   "cell_type": "markdown",
   "metadata": {},
   "source": [
    "### Delete the table 'murderstabletwo' and 'murderstable'\n",
    "\n",
    " "
   ]
  },
  {
   "cell_type": "code",
   "execution_count": 15,
   "metadata": {},
   "outputs": [],
   "source": [
    "try:\n",
    "    murcur.execute(\"DROP TABLE murderstable\")\n",
    "    murcur.execute(\"DROP TABLE murderstabletwo\")\n",
    "except Exception as e:\n",
    "    print(e)"
   ]
  },
  {
   "cell_type": "markdown",
   "metadata": {},
   "source": [
    "## Commit, rollback and close¶\n",
    " "
   ]
  },
  {
   "cell_type": "markdown",
   "metadata": {},
   "source": [
    "The operations performed to the database can all be saved by calling the commit method on the connection object. Another method 'rollback' can rollback all the changes done to the database after the last commit. 'Close' method called on the connection object closes the connection to the database"
   ]
  },
  {
   "cell_type": "markdown",
   "metadata": {},
   "source": [
    "## Rollback changes made to the database. Commit the changes and close the connection.\n",
    "\n"
   ]
  },
  {
   "cell_type": "code",
   "execution_count": 17,
   "metadata": {},
   "outputs": [],
   "source": [
    "try:\n",
    "    murcon.rollback()\n",
    "    murcon.commit()\n",
    "    murcon.close()\n",
    "except Exception as e:\n",
    "    print(e)"
   ]
  },
  {
   "cell_type": "markdown",
   "metadata": {},
   "source": [
    "# EXample for sqllite3 in python"
   ]
  },
  {
   "cell_type": "code",
   "execution_count": 28,
   "metadata": {},
   "outputs": [],
   "source": [
    "class Employee:\n",
    "    \"\"\"A sample Employee class\"\"\"\n",
    "\n",
    "    def __init__(self, first, last, pay):\n",
    "        self.first = first\n",
    "        self.last = last\n",
    "        self.pay = pay\n",
    "\n",
    "    @property\n",
    "    def email(self):\n",
    "        return '{}.{}@email.com'.format(self.first, self.last)\n",
    "\n",
    "    @property\n",
    "    def fullname(self):\n",
    "        return '{} {}'.format(self.first, self.last)\n",
    "\n",
    "    def __repr__(self):\n",
    "        return \"Employee('{}', '{}', {})\".format(self.first, self.last, self.pay)\n",
    "\n"
   ]
  },
  {
   "cell_type": "code",
   "execution_count": 33,
   "metadata": {},
   "outputs": [
    {
     "name": "stdout",
     "output_type": "stream",
     "text": [
      "[('John', 'Doe', 80000), ('Jane', 'Doe', 90000)]\n",
      "[('Jane', 'Doe', 95000)]\n"
     ]
    }
   ],
   "source": [
    "import sqlite3\n",
    "conn = sqlite3.connect(':memory:')\n",
    "\n",
    "c = conn.cursor()\n",
    "\n",
    "c.execute(\"\"\"CREATE TABLE employees (\n",
    "            first text,\n",
    "            last text,\n",
    "            pay integer\n",
    "            )\"\"\")\n",
    "\n",
    "\n",
    "def insert_emp(emp):\n",
    "    with conn:\n",
    "        c.execute(\"INSERT INTO employees VALUES (:first, :last, :pay)\", {'first': emp.first, 'last': emp.last, 'pay': emp.pay})\n",
    "\n",
    "\n",
    "def get_emps_by_name(lastname):\n",
    "    c.execute(\"SELECT * FROM employees WHERE last=:last\", {'last': lastname})\n",
    "    return c.fetchall()\n",
    "\n",
    "\n",
    "def update_pay(emp, pay):\n",
    "    with conn:\n",
    "        c.execute(\"\"\"UPDATE employees SET pay = :pay\n",
    "                    WHERE first = :first AND last = :last\"\"\",\n",
    "                  {'first': emp.first, 'last': emp.last, 'pay': pay})\n",
    "\n",
    "\n",
    "def remove_emp(emp):\n",
    "    with conn:\n",
    "        c.execute(\"DELETE from employees WHERE first = :first AND last = :last\",\n",
    "                  {'first': emp.first, 'last': emp.last})\n",
    "\n",
    "emp_1 = Employee('John', 'Doe', 80000)\n",
    "emp_2 = Employee('Jane', 'Doe', 90000)\n",
    "\n",
    "insert_emp(emp_1)\n",
    "insert_emp(emp_2)\n",
    "\n",
    "emps = get_emps_by_name('Doe')\n",
    "print(emps)\n",
    "\n",
    "update_pay(emp_2, 95000)\n",
    "remove_emp(emp_1)\n",
    "\n",
    "emps = get_emps_by_name('Doe')\n",
    "print(emps)\n",
    "\n",
    "conn.close()"
   ]
  },
  {
   "cell_type": "markdown",
   "metadata": {},
   "source": [
    "## EXample-2 sqlite3 in python "
   ]
  },
  {
   "cell_type": "code",
   "execution_count": 35,
   "metadata": {},
   "outputs": [
    {
     "name": "stdout",
     "output_type": "stream",
     "text": [
      "(1, 'Melksham', 'SN12', 4, 1, 'Well House Manor', 'Spa Road', 5, 80.0)\n",
      "(1, 'Melksham', 'SN12', 5, 1, 'Beechfield House', 'The Main Road', 26, 110.0)\n",
      "(2, 'Cambridge', 'CB1', 1, 2, 'Hamilkilo Hotel', 'Chesterton Road', 15, 40.0)\n",
      "(2, 'Cambridge', 'CB1', 2, 2, 'Arun Dell', 'Chesterton Road', 60, 70.0)\n",
      "(2, 'Cambridge', 'CB1', 3, 2, 'Crown Plaza', 'Downing Street', 100, 105.0)\n",
      "(3, 'Foxkilo', 'CB22', None, None, None, None, None, None)\n"
     ]
    }
   ],
   "source": [
    "import sqlite3\n",
    "\n",
    "conn = sqlite3.connect('prnith')\n",
    "\n",
    "c = conn.cursor()\n",
    "\n",
    "c.execute(\"\"\"drop table if exists towns\"\"\")\n",
    "c.execute(\"\"\"drop table if exists hotels\"\"\")\n",
    "\n",
    "conn.commit()\n",
    "\n",
    "c.execute(\"\"\"create table towns (\n",
    "        tid     int     primary key not NULL ,\n",
    "        name    text,\n",
    "        postcode        text)\"\"\")\n",
    "\n",
    "c.execute(\"\"\"create table hotels (\n",
    "        hid     int     primary key not NULL ,\n",
    "        tid     int,\n",
    "        name    text,\n",
    "        address text,\n",
    "        rooms   int,\n",
    "        rate    float)\"\"\")\n",
    "\n",
    "c.execute(\"\"\"insert into towns values (1, \"Melksham\", \"SN12\")\"\"\")\n",
    "c.execute(\"\"\"insert into towns values (2, \"Cambridge\", \"CB1\")\"\"\")\n",
    "c.execute(\"\"\"insert into towns values (3, \"Foxkilo\", \"CB22\")\"\"\")\n",
    "\n",
    "c.execute(\"\"\"insert into hotels values (1, 2, \"Hamilkilo Hotel\", \"Chesterton Road\", 15, 40.)\"\"\")\n",
    "c.execute(\"\"\"insert into hotels values (2, 2, \"Arun Dell\", \"Chesterton Road\", 60, 70.)\"\"\")\n",
    "c.execute(\"\"\"insert into hotels values (3, 2, \"Crown Plaza\", \"Downing Street\", 100, 105.)\"\"\")\n",
    "c.execute(\"\"\"insert into hotels values (4, 1, \"Well House Manor\", \"Spa Road\", 5, 80.)\"\"\")\n",
    "c.execute(\"\"\"insert into hotels values (5, 1, \"Beechfield House\", \"The Main Road\", 26, 110.)\"\"\")\n",
    "\n",
    "conn.commit()\n",
    "\n",
    "c.execute (\"\"\"select * from towns left join hotels on towns.tid = hotels.tid\"\"\")\n",
    "\n",
    "for row in c:\n",
    "        print (row)\n",
    "\n",
    "c.close()"
   ]
  },
  {
   "cell_type": "markdown",
   "metadata": {},
   "source": [
    "# Example-3 sqlite in python "
   ]
  },
  {
   "cell_type": "code",
   "execution_count": 36,
   "metadata": {},
   "outputs": [],
   "source": [
    "import sqlite3\n",
    "connection = sqlite3.connect(\"company.db\")\n",
    "\n",
    "cursor = connection.cursor()\n",
    "\n",
    "# delete \n",
    "#cursor.execute(\"\"\"DROP TABLE employee;\"\"\")\n",
    "\n",
    "sql_command = \"\"\"\n",
    "CREATE TABLE employee ( \n",
    "staff_number INTEGER PRIMARY KEY, \n",
    "fname VARCHAR(20), \n",
    "lname VARCHAR(30), \n",
    "gender CHAR(1), \n",
    "joining DATE,\n",
    "birth_date DATE);\"\"\"\n",
    "\n",
    "cursor.execute(sql_command)\n",
    "\n",
    "sql_command = \"\"\"INSERT INTO employee (staff_number, fname, lname, gender, birth_date)\n",
    "    VALUES (NULL, \"William\", \"Shakespeare\", \"m\", \"1961-10-25\");\"\"\"\n",
    "cursor.execute(sql_command)\n",
    "\n",
    "\n",
    "sql_command = \"\"\"INSERT INTO employee (staff_number, fname, lname, gender, birth_date)\n",
    "    VALUES (NULL, \"Frank\", \"Schiller\", \"m\", \"1955-08-17\");\"\"\"\n",
    "cursor.execute(sql_command)\n",
    "\n",
    "# never forget this, if you want the changes to be saved:\n",
    "connection.commit()\n",
    "\n",
    "connection.close()"
   ]
  },
  {
   "cell_type": "code",
   "execution_count": 39,
   "metadata": {},
   "outputs": [
    {
     "name": "stdout",
     "output_type": "stream",
     "text": [
      "fetchall:\n",
      "(1, 'William', 'Shakespeare', 'm', None, '1961-10-25')\n",
      "(2, 'Frank', 'Schiller', 'm', None, '1955-08-17')\n",
      "\n",
      "fetch one:\n",
      "(1, 'William', 'Shakespeare', 'm', None, '1961-10-25')\n"
     ]
    }
   ],
   "source": [
    "import sqlite3\n",
    "connection = sqlite3.connect(\"company.db\")\n",
    "\n",
    "cursor = connection.cursor()\n",
    "\n",
    "cursor.execute(\"SELECT * FROM employee\") \n",
    "print(\"fetchall:\")\n",
    "result = cursor.fetchall() \n",
    "for r in result:\n",
    "    print(r)\n",
    "cursor.execute(\"SELECT * FROM employee\") \n",
    "print(\"\\nfetch one:\")\n",
    "res = cursor.fetchone() \n",
    "print(res)"
   ]
  },
  {
   "cell_type": "markdown",
   "metadata": {},
   "source": [
    "# Additional information about sqlite "
   ]
  },
  {
   "cell_type": "markdown",
   "metadata": {},
   "source": [
    "https://www.pythoncentral.io/introduction-to-sqlite-in-python/"
   ]
  },
  {
   "cell_type": "markdown",
   "metadata": {},
   "source": [
    "https://github.com/brownan/SQLite-tutorial/blob/master/SQLite_Tutorial.ipynb"
   ]
  },
  {
   "cell_type": "code",
   "execution_count": null,
   "metadata": {},
   "outputs": [],
   "source": []
  }
 ],
 "metadata": {
  "kernelspec": {
   "display_name": "Python 3",
   "language": "python",
   "name": "python3"
  },
  "language_info": {
   "codemirror_mode": {
    "name": "ipython",
    "version": 3
   },
   "file_extension": ".py",
   "mimetype": "text/x-python",
   "name": "python",
   "nbconvert_exporter": "python",
   "pygments_lexer": "ipython3",
   "version": "3.6.4"
  }
 },
 "nbformat": 4,
 "nbformat_minor": 2
}
