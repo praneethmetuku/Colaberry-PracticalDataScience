{
 "cells": [
  {
   "cell_type": "markdown",
   "metadata": {},
   "source": [
    "# N-dimensional arrays "
   ]
  },
  {
   "cell_type": "markdown",
   "metadata": {},
   "source": [
    "An array is a list or collection of homogenous elements, i.e., same type of items. An N-dimensional array is a collection of such arrays, and in simplest terms can be described as an array of arrays"
   ]
  },
  {
   "cell_type": "markdown",
   "metadata": {},
   "source": [
    "A two dimensional array, also called a matrix (plural: matrices), is very common and most of us would be familiar with it. An array of matrices can be visualized as a 3 dimensional array. An array can be defined using the '.array' method of the numpy module. A range of functions such as dtype, shape, size, etc., are available to find out about various attributes of the array"
   ]
  },
  {
   "cell_type": "markdown",
   "metadata": {},
   "source": [
    "https://docs.scipy.org/doc/numpy/reference/arrays.ndarray.html "
   ]
  },
  {
   "cell_type": "raw",
   "metadata": {},
   "source": [
    "#example\n",
    "- Create a three dimensional array, named tdarray consisting of 3 matrices =  [[1,2,3],[a,b,c]],[[4,5,6],[d,e,f]],[[7,8,9],[g,h,i]][[1,2,3],[a,b,c]],[[4,5,6],[d,e,f]],[[7,8,9],[g,h,i]] \n",
    "\n",
    "-Access the element 'h' using indices and store it into a variable called 'target'. Print target out.\n",
    "\n",
    "-Print the data type of the array using the '.dtype' method, and the shape of the array using the '.shape' method\n"
   ]
  },
  {
   "cell_type": "code",
   "execution_count": 12,
   "metadata": {},
   "outputs": [
    {
     "data": {
      "text/plain": [
       "array([[['1', '2', '3'],\n",
       "        ['a', 'b', 'c']],\n",
       "\n",
       "       [['4', '5', '6'],\n",
       "        ['d', 'e', 'f']],\n",
       "\n",
       "       [['7', '8', '9'],\n",
       "        ['g', 'h', 'i']]], dtype='<U1')"
      ]
     },
     "execution_count": 12,
     "metadata": {},
     "output_type": "execute_result"
    }
   ],
   "source": [
    "import numpy as np\n",
    "tdarray = np.array([[['1','2','3'],['a','b','c']],[['4','5','6'],['d','e','f']],[['7','8','9'],['g','h','i']]])\n",
    "tdarray"
   ]
  },
  {
   "cell_type": "code",
   "execution_count": 16,
   "metadata": {},
   "outputs": [
    {
     "data": {
      "text/plain": [
       "'h'"
      ]
     },
     "execution_count": 16,
     "metadata": {},
     "output_type": "execute_result"
    }
   ],
   "source": [
    "target=tdarray[2][1][1]\n",
    "target"
   ]
  },
  {
   "cell_type": "code",
   "execution_count": 17,
   "metadata": {},
   "outputs": [
    {
     "name": "stdout",
     "output_type": "stream",
     "text": [
      "<U1\n",
      "(3, 2, 3)\n"
     ]
    }
   ],
   "source": [
    "print(tdarray.dtype)\n",
    "print(tdarray.shape)"
   ]
  },
  {
   "cell_type": "code",
   "execution_count": 18,
   "metadata": {},
   "outputs": [
    {
     "data": {
      "text/plain": [
       "array([[['1'],\n",
       "        ['2'],\n",
       "        ['3']],\n",
       "\n",
       "       [['a'],\n",
       "        ['b'],\n",
       "        ['c']],\n",
       "\n",
       "       [['4'],\n",
       "        ['5'],\n",
       "        ['6']],\n",
       "\n",
       "       [['d'],\n",
       "        ['e'],\n",
       "        ['f']],\n",
       "\n",
       "       [['7'],\n",
       "        ['8'],\n",
       "        ['9']],\n",
       "\n",
       "       [['g'],\n",
       "        ['h'],\n",
       "        ['i']]], dtype='<U1')"
      ]
     },
     "execution_count": 18,
     "metadata": {},
     "output_type": "execute_result"
    }
   ],
   "source": [
    "tdarray.reshape(6,3,1) #here 1 is 1-d array 3 is number of elements in array & 6 is no of arrays"
   ]
  },
  {
   "cell_type": "raw",
   "metadata": {},
   "source": [
    "#example of 4d array\n",
    "\n",
    "-Create a 4-dimensional array, named fdarray, with elements 1,2,3,4...so on and with a shape 4,3,2,2.\n",
    "\n",
    "-Print out the shape of the array to verify your answer. Also access the element '10' using appropriate indices, assign it to a variable target2 and print out target2."
   ]
  },
  {
   "cell_type": "code",
   "execution_count": 20,
   "metadata": {},
   "outputs": [
    {
     "data": {
      "text/plain": [
       "10"
      ]
     },
     "execution_count": 20,
     "metadata": {},
     "output_type": "execute_result"
    }
   ],
   "source": [
    "fdarray = np.array([[[[1,2],[3,4]],[[5,6],[7,8]],[[9,10],[11,12]]],[[[13,14],[15,16]],[[17,18],[19,20]],[[21,22],[23,24]]],[[[25,26],[27,28]],[[29,30],[31,32]],[[33,34],[35,36]]],[[[37,38],[39,40]],[[41,42],[43,44]],[[45,46],[47,48]]]])\n",
    "target2 = fdarray[0][2][0][1]\n",
    "target2"
   ]
  },
  {
   "cell_type": "code",
   "execution_count": 23,
   "metadata": {},
   "outputs": [
    {
     "data": {
      "text/plain": [
       "(4, 3, 2, 2)"
      ]
     },
     "execution_count": 23,
     "metadata": {},
     "output_type": "execute_result"
    }
   ],
   "source": [
    "fdarray.shape"
   ]
  },
  {
   "cell_type": "code",
   "execution_count": null,
   "metadata": {},
   "outputs": [],
   "source": []
  }
 ],
 "metadata": {
  "kernelspec": {
   "display_name": "Python 3",
   "language": "python",
   "name": "python3"
  },
  "language_info": {
   "codemirror_mode": {
    "name": "ipython",
    "version": 3
   },
   "file_extension": ".py",
   "mimetype": "text/x-python",
   "name": "python",
   "nbconvert_exporter": "python",
   "pygments_lexer": "ipython3",
   "version": "3.6.4"
  }
 },
 "nbformat": 4,
 "nbformat_minor": 2
}
