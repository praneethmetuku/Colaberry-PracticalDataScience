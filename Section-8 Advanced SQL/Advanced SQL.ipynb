{
 "cells": [
  {
   "cell_type": "markdown",
   "metadata": {},
   "source": [
    "![title](https://raw.githubusercontent.com/georgetown-analytics/sql-tutorial/master/figures/sqljoins.jpg)"
   ]
  },
  {
   "cell_type": "markdown",
   "metadata": {},
   "source": [
    "# ADVanced sql  "
   ]
  },
  {
   "cell_type": "markdown",
   "metadata": {},
   "source": [
    "After handling basic sql queries through Python, let us look at slightly more advanced SQL queries and their execution through Python's sqlite module. SQL concepts like nested queries, merges, join operations are some of the basic concepts among advanced sql queries. In order to execute queries and practice these concepts, we need to first load data. Most of these concepts involve more than one table, so we will load and work with data among two tables."
   ]
  },
  {
   "cell_type": "markdown",
   "metadata": {},
   "source": [
    "### Introduction to Fandango dataset\n",
    "Fandango is an online ticketing platform for movies. In order to support user's ticket buying decision, Fandango has viewer reviews and ratings for movie listings. This Fandango data set consists of two files - Fandango scrape and Fandango score comparison. The Fandango scrape consists of the list of movies on Fandango and their ratings. The score comparison file consists of the movie name and compares Fandango's movie score with that of other movie review websites like rotten tomatoes and metacritic."
   ]
  },
  {
   "cell_type": "markdown",
   "metadata": {},
   "source": [
    "## Exercise\n",
    "Connect to fandangodb.db and load the two data sets, fandango_scrape and fandango_score_comparison into two tables 'fscrape' and 'fscore' respectively. "
   ]
  },
  {
   "cell_type": "code",
   "execution_count": 1,
   "metadata": {},
   "outputs": [],
   "source": [
    "import sqlite3\n",
    "import csv\n",
    "import pandas as pd\n",
    "\n",
    "# Connecting to the database\n",
    "fancon = sqlite3.connect(':memory:')\n",
    "\n",
    "# Reading data into tables\n",
    "scrapedf = pd.read_csv('https://raw.githubusercontent.com/colaberry/538data/master/fandango/fandango_scrape.csv')\n",
    "scoredf = pd.read_csv('https://raw.githubusercontent.com/colaberry/538data/master/fandango/fandango_score_comparison.csv')\n",
    "scrapedf.to_sql(name='fscrape',con=fancon,if_exists='append',index=False)\n",
    "scoredf.to_sql(name='fscore',con=fancon,if_exists='append',index=False)"
   ]
  },
  {
   "cell_type": "markdown",
   "metadata": {},
   "source": [
    "In the above step we have loaded two files fandango_score_comparison and fandango_scrape into two dataframes. Let us verify the success of the loading operation by visualizing the dataframes."
   ]
  },
  {
   "cell_type": "markdown",
   "metadata": {},
   "source": [
    "### Exercise\n",
    "Visualize the heads of both data frames created in the step above. Read and understand the nature of the data."
   ]
  },
  {
   "cell_type": "code",
   "execution_count": 2,
   "metadata": {},
   "outputs": [
    {
     "name": "stdout",
     "output_type": "stream",
     "text": [
      "                          FILM  STARS  RATING  VOTES\n",
      "0  Fifty Shades of Grey (2015)    4.0     3.9  34846\n",
      "1        Jurassic World (2015)    4.5     4.5  34390\n",
      "2       American Sniper (2015)    5.0     4.8  34085\n",
      "3             Furious 7 (2015)    5.0     4.8  33538\n",
      "4            Inside Out (2015)    4.5     4.5  15749                              FILM  RottenTomatoes  RottenTomatoes_User  \\\n",
      "0  Avengers: Age of Ultron (2015)              74                   86   \n",
      "1               Cinderella (2015)              85                   80   \n",
      "2                  Ant-Man (2015)              80                   90   \n",
      "3          Do You Believe? (2015)              18                   84   \n",
      "4   Hot Tub Time Machine 2 (2015)              14                   28   \n",
      "\n",
      "   Metacritic  Metacritic_User  IMDB  Fandango_Stars  Fandango_Ratingvalue  \\\n",
      "0          66              7.1   7.8             5.0                   4.5   \n",
      "1          67              7.5   7.1             5.0                   4.5   \n",
      "2          64              8.1   7.8             5.0                   4.5   \n",
      "3          22              4.7   5.4             5.0                   4.5   \n",
      "4          29              3.4   5.1             3.5                   3.0   \n",
      "\n",
      "   RT_norm  RT_user_norm         ...           IMDB_norm  RT_norm_round  \\\n",
      "0     3.70           4.3         ...                3.90            3.5   \n",
      "1     4.25           4.0         ...                3.55            4.5   \n",
      "2     4.00           4.5         ...                3.90            4.0   \n",
      "3     0.90           4.2         ...                2.70            1.0   \n",
      "4     0.70           1.4         ...                2.55            0.5   \n",
      "\n",
      "   RT_user_norm_round  Metacritic_norm_round  Metacritic_user_norm_round  \\\n",
      "0                 4.5                    3.5                         3.5   \n",
      "1                 4.0                    3.5                         4.0   \n",
      "2                 4.5                    3.0                         4.0   \n",
      "3                 4.0                    1.0                         2.5   \n",
      "4                 1.5                    1.5                         1.5   \n",
      "\n",
      "   IMDB_norm_round  Metacritic_user_vote_count  IMDB_user_vote_count  \\\n",
      "0              4.0                        1330                271107   \n",
      "1              3.5                         249                 65709   \n",
      "2              4.0                         627                103660   \n",
      "3              2.5                          31                  3136   \n",
      "4              2.5                          88                 19560   \n",
      "\n",
      "   Fandango_votes  Fandango_Difference  \n",
      "0           14846                  0.5  \n",
      "1           12640                  0.5  \n",
      "2           12055                  0.5  \n",
      "3            1793                  0.5  \n",
      "4            1021                  0.5  \n",
      "\n",
      "[5 rows x 22 columns]\n"
     ]
    }
   ],
   "source": [
    "# Use .head(5) function on the dataframes to visualize first 5 rows of the dataframes.\n",
    "# Use print function to print both the dataframes in a single step.\n",
    "print(scrapedf.head(5),scoredf.head(5))"
   ]
  },
  {
   "cell_type": "markdown",
   "metadata": {},
   "source": [
    "### Exercise\n",
    "Find the total number of rows in both the tables and print them out. You may use the dataframes to count the data."
   ]
  },
  {
   "cell_type": "code",
   "execution_count": 3,
   "metadata": {},
   "outputs": [
    {
     "name": "stdout",
     "output_type": "stream",
     "text": [
      "Total number of records in fscrape table=510 and fscore table=146\n"
     ]
    }
   ],
   "source": [
    "# Use a simple print statement to print the number of rows\n",
    "print(\"Total number of records in fscrape table=%d and fscore table=%d\"%(len(scrapedf),len(scoredf)))"
   ]
  },
  {
   "cell_type": "markdown",
   "metadata": {},
   "source": [
    "## Union, Intersection and Minus\n",
    "\n",
    "\n",
    "Union is a set theory concept which says that it is a collection of all unique elements of two or more sets. When performed among two tables say by specifying column name, it outputs the collection of all unique values that appear in the common column, of either or both tables. Intersection outputs the values that are appear in both tables. Note that when performed on same inputs, intersection will always be a subset of Union. Minus operation results in values/records, featuring in one table but not featuring in the other - i.e. A-B = A-(Intersection(A,B))."
   ]
  },
  {
   "cell_type": "markdown",
   "metadata": {},
   "source": [
    "## Exercise\n",
    "Execute Union and Intersection operations on 'FILM' column of 'fscore' and 'fscrape' tables to understand the data better as well as understand the operations better.\n",
    "\n",
    "1) Execute the SQL query\n",
    "2) Fetch the output and store it in an array\n",
    "3) Print the first five rows and size of the array to show total number of records in output"
   ]
  },
  {
   "cell_type": "code",
   "execution_count": 5,
   "metadata": {},
   "outputs": [
    {
     "name": "stdout",
     "output_type": "stream",
     "text": [
      "[(' Like Sunday, Like Rain (2015)',), (\"'71 (2015)\",), ('1001 Grams (2015)',), ('12 Golden Ducks (2015)',), ('24 Days (2015)',)] [(\"'71 (2015)\",), ('5 Flights Up (2015)',), ('A Little Chaos (2015)',), ('A Most Violent Year (2014)',), ('About Elly (2015)',)] [(' Like Sunday, Like Rain (2015)',), ('1001 Grams (2015)',), ('12 Golden Ducks (2015)',), ('24 Days (2015)',), ('3 1/2 Minutes, Ten Bullets (2015)',)]\n",
      "total number of rows in union=510, total number of rows in intersection=145, total number of rows in minus=364\n"
     ]
    }
   ],
   "source": [
    "fancur=fancon.cursor()\n",
    "fancur.execute(\"SELECT FILM FROM fscore UNION SELECT FILM FROM fscrape\")\n",
    "unionout = fancur.fetchall()\n",
    "fancur.execute(\"SELECT FILM FROM fscore INTERSECT SELECT FILM FROM fscrape\")\n",
    "intersectout = fancur.fetchall()\n",
    "fancur.execute(\"SELECT FILM FROM fscrape EXCEPT SELECT FILM FROM fscore\")\n",
    "exceptout = fancur.fetchall()\n",
    "print(unionout[:5],intersectout[:5],exceptout[:5])\n",
    "print(\"total number of rows in union=%d, total number of rows in intersection=%d, total number of rows in minus=%d\"%(len(unionout),len(intersectout),len(exceptout)))"
   ]
  },
  {
   "cell_type": "markdown",
   "metadata": {},
   "source": [
    "## Nested query\n",
    "A Nested query, also referred to as sub-query, is a query within a query. This means that the innermost query is executed first and the output of that query serves as an input to the query which surrounds the embedded query.\n",
    "\n",
    "From above analysis we can see that fscrape is a bigger list and fscore is a smaller list of movies. Let us retrieve complete Fandango information for all movies that have an IMDB score of more than 7.5"
   ]
  },
  {
   "cell_type": "markdown",
   "metadata": {},
   "source": [
    "## Exercise\n",
    "Retrieve FILM, STARS, RATING, VOTES for all movies that have an IMDB rating greater than 7.5 in the fscore table. Note: Do not use 'JOIN' operation to solve this exercise."
   ]
  },
  {
   "cell_type": "code",
   "execution_count": 6,
   "metadata": {},
   "outputs": [
    {
     "name": "stdout",
     "output_type": "stream",
     "text": [
      "[('Inside Out (2015)', 4.5, 4.5, 15749), ('Kingsman: The Secret Service (2015)', 4.5, 4.2, 15205), ('Avengers: Age of Ultron (2015)', 5.0, 4.5, 14846), ('Ant-Man (2015)', 5.0, 4.5, 12055), ('Mad Max: Fury Road (2015)', 4.5, 4.3, 10509)]\n",
      "total number of rows=27\n"
     ]
    }
   ],
   "source": [
    "fancur.execute('SELECT * FROM fscrape WHERE FILM IN (SELECT FILM FROM fscore WHERE IMDB>7.5)')\n",
    "nestout = fancur.fetchall()\n",
    "print(nestout[:5])\n",
    "print(\"total number of rows=%d\"%len(nestout))"
   ]
  },
  {
   "cell_type": "markdown",
   "metadata": {},
   "source": [
    "# Types of joins\n",
    "A join is an operation that is used to combine data from two tables, given that there is a common column in both of them. There are four types of joins: 1) Inner join - returns common records among both the tables 2) Right join - returns all records from right table, and the common records from the left table 3) Left join - returns all records from left table, and the common records from the right table 4) Full join - returns all records when the common record is either in table 1 or table 2.\n",
    "\n",
    "Lets understand what they actually mean by executing these operations on the two tables."
   ]
  },
  {
   "cell_type": "markdown",
   "metadata": {},
   "source": [
    "## Exercise (a)\n",
    "Execute inner join operation on the 'fscore' and 'fscrape' tables. Note that FILM is the common column among both tables."
   ]
  },
  {
   "cell_type": "raw",
   "metadata": {},
   "source": [
    "from tabulate import tabulate\n",
    "\n",
    "\n",
    "fancur.execute('''SELECT fscore.FILM, fscore.RottenTomatoes, fscore.Metacritic, fscore.IMDB, fscrape.RATING, fscrape.VOTES\n",
    "               FROM fscore\n",
    "               INNER JOIN fscrape ON fscore.FILM=fscrape.FILM''')\n",
    "templist1 = fancur.fetchall()\n",
    "headers1 = ['FILM','rottentomatoes','metacritic','Imdb','fandangorating','fandangovotes']\n",
    "print(tabulate(templist1, headers1))\n",
    "print(len(templist1))"
   ]
  },
  {
   "cell_type": "markdown",
   "metadata": {},
   "source": [
    "## Exercise (b)\n",
    "Execute a left join operation on the 'fscore' and 'fscrape' tables. Note that FILM is the common column among both tables."
   ]
  },
  {
   "cell_type": "raw",
   "metadata": {},
   "source": [
    "fancur.execute('''SELECT fscore.FILM, fscore.RottenTomatoes, fscore.Metacritic, fscore.IMDB, fscrape.RATING, fscrape.VOTES\n",
    "               FROM fscore\n",
    "               LEFT JOIN fscrape ON fscore.FILM=fscrape.FILM''')\n",
    "templist2 = fancur.fetchall()\n",
    "headers2 = ['FILM','rottentomatoes','metacritic','Imdb','fandangorating','fandangovotes']\n",
    "print(tabulate(templist2, headers2))\n",
    "print(len(templist2))"
   ]
  },
  {
   "cell_type": "markdown",
   "metadata": {},
   "source": [
    "From above code we can see that INNER JOIN and LEFT JOIN produce almost the same output. This is because the fscore table is a subset of fscrape table.\n",
    "\n",
    "As of now, RIGHT OUTER JOIN and FULL OUTER JOIN are not supported by the sqlite module."
   ]
  },
  {
   "cell_type": "markdown",
   "metadata": {},
   "source": [
    "### Stored Procedures, Triggers and Materialized Views\n",
    "Stored procedures, triggers and materialized views are some of the advanced SQL concepts. A stored procedure is a set of instructions/SQL queries which performs a logical action on the database server and is executed on a recurring basis, much like a standard operating procedure. A trigger is a type of stored procedure, which is set to automatically execute when a certain event occurs in the database (Eg. Say a record in a specific table is updated or deleted). A view is the output of a sql query which is presented in the console, but not stored on disk. When this output is stored on disk, in the form of a structure, in order to retrieve it frequently (instead of having to run the query again), it is called a materialized view.\n",
    "\n",
    "Some additional reading on the above topics: Stored procedures: https://en.wikipedia.org/wiki/Stored_procedure, https://www.tutorialspoint.com/t_sql/t_sql_stored_procedures.htm\n",
    "\n",
    "Triggers: https://www.tutorialspoint.com/plsql/plsql_triggers.htm\n",
    "\n",
    "Materialized views: https://en.wikipedia.org/wiki/Materialized_view, http://www.postgresqltutorial.com/postgresql-materialized-views/\n",
    "\n",
    "The above concepts are not supported by sqlite module."
   ]
  },
  {
   "cell_type": "markdown",
   "metadata": {},
   "source": [
    "# Additional info "
   ]
  },
  {
   "cell_type": "markdown",
   "metadata": {},
   "source": [
    "http://www.sqlcourse2.com/groupby.html"
   ]
  },
  {
   "cell_type": "markdown",
   "metadata": {},
   "source": [
    "https://github.com/XD-DENG/SQL-exercise"
   ]
  },
  {
   "cell_type": "markdown",
   "metadata": {},
   "source": [
    "https://github.com/catherinedevlin/ipython-sql/blob/master/examples/writers.ipynb"
   ]
  },
  {
   "cell_type": "code",
   "execution_count": null,
   "metadata": {},
   "outputs": [],
   "source": []
  }
 ],
 "metadata": {
  "kernelspec": {
   "display_name": "Python 3",
   "language": "python",
   "name": "python3"
  },
  "language_info": {
   "codemirror_mode": {
    "name": "ipython",
    "version": 3
   },
   "file_extension": ".py",
   "mimetype": "text/x-python",
   "name": "python",
   "nbconvert_exporter": "python",
   "pygments_lexer": "ipython3",
   "version": "3.6.4"
  }
 },
 "nbformat": 4,
 "nbformat_minor": 2
}
